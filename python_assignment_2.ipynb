{
 "cells": [
  {
   "cell_type": "markdown",
   "id": "d99ac390-05fb-413b-82d4-717b70862794",
   "metadata": {},
   "source": [
    "### Program 1 - Create an empty list called shopping_cart.  Ask the user to input three items one by one and add each to the list.  Print the final list.  Then, remove the second item and print the updated list."
   ]
  },
  {
   "cell_type": "code",
   "execution_count": 2,
   "id": "3d4f87d5-4ea2-473e-9b3b-03b3d8648ae6",
   "metadata": {},
   "outputs": [
    {
     "name": "stdin",
     "output_type": "stream",
     "text": [
      "Input Item 1 bread\n",
      "Input Item 2 butter\n",
      "Input Item 3 biscuit\n"
     ]
    },
    {
     "name": "stdout",
     "output_type": "stream",
     "text": [
      "['bread', 'butter', 'biscuit']\n",
      "['bread', 'biscuit']\n"
     ]
    }
   ],
   "source": [
    "shopping_cart = [input(f\"Input Item {i}\") for i in range(1,4)]\n",
    "print(shopping_cart)\n",
    "shopping_cart.pop(1)\n",
    "print(shopping_cart)"
   ]
  },
  {
   "cell_type": "code",
   "execution_count": null,
   "id": "debdd85f-897d-45c9-a000-2e13de4e2362",
   "metadata": {},
   "outputs": [],
   "source": []
  },
  {
   "cell_type": "markdown",
   "id": "10f7e035-d672-4b7a-911e-5d842d181392",
   "metadata": {},
   "source": [
    "### Program 2 - Create a tuple named student that contains a student&#39;s first name, last name, and age (e.g., (&#39;John&#39;, &#39;Doe&#39;, 19)).  Print the entire tuple.  Print only the student&#39;s last name using indexing."
   ]
  },
  {
   "cell_type": "code",
   "execution_count": 4,
   "id": "b164b5e5-6775-4589-8fa3-afb69bb89635",
   "metadata": {},
   "outputs": [
    {
     "name": "stdout",
     "output_type": "stream",
     "text": [
      "All student data: (('John', 'Doe', 19), ('Charlie', 'Smith', 20), ('Bob', 'Johnson', 21))\n",
      "Doe\n",
      "Smith\n",
      "Johnson\n"
     ]
    }
   ],
   "source": [
    "student = (\n",
    "    ('John', 'Doe', 19),\n",
    "    ('Charlie', 'Smith', 20),\n",
    "    ('Bob', 'Johnson', 21)\n",
    ")\n",
    "\n",
    "print(\"All student data:\", student)\n",
    "\n",
    "for num in student:\n",
    "    print(num[1])    "
   ]
  },
  {
   "cell_type": "code",
   "execution_count": null,
   "id": "9dd1bb5c-f285-4443-b9f9-47bf9143f0aa",
   "metadata": {},
   "outputs": [],
   "source": []
  },
  {
   "cell_type": "markdown",
   "id": "60a31749-6741-4fe2-baf6-6cf70a7fa41b",
   "metadata": {},
   "source": [
    "### Program 3 - Create an empty dictionary called phone_book.  Add three key-value pairs to it, where the key is a person&#39;s name and the value is their phone number.  Print the entire dictionary.  Ask the user for a name and print that person&#39;s phone number. Handle the case where the name is not found."
   ]
  },
  {
   "cell_type": "code",
   "execution_count": 8,
   "id": "2ac1d9a3-d63f-42a0-a675-06203f6ff1b8",
   "metadata": {},
   "outputs": [
    {
     "name": "stdin",
     "output_type": "stream",
     "text": [
      "Enter name and phone number:  john, 1234567890\n",
      "Enter name and phone number:  charlie, 0987654321\n",
      "Enter name and phone number:  alice, 5432167890\n"
     ]
    },
    {
     "name": "stdout",
     "output_type": "stream",
     "text": [
      "{'john': 1234567890, 'charlie': 987654321, 'alice': 5432167890}\n"
     ]
    },
    {
     "name": "stdin",
     "output_type": "stream",
     "text": [
      "Enter the name of the person alice\n"
     ]
    },
    {
     "name": "stdout",
     "output_type": "stream",
     "text": [
      "alice's phone number is :  5432167890\n"
     ]
    }
   ],
   "source": [
    "phone_book = {}\n",
    "for i in range(3):\n",
    "    data = input(\"Enter name and phone number: \").split(\",\")\n",
    "    phone_book[data[0].strip()] = int(data[1].strip())\n",
    "\n",
    "print(phone_book)\n",
    "\n",
    "name = input(\"Enter the name of the person\")\n",
    "if name.lower() in phone_book:\n",
    "    print(f\"{name}'s phone number is : \", phone_book[name])\n",
    "else:\n",
    "    print(\"Name not found\")"
   ]
  },
  {
   "cell_type": "code",
   "execution_count": null,
   "id": "71d85619-9cf4-4139-b94e-9e77b4bb5670",
   "metadata": {},
   "outputs": [],
   "source": []
  },
  {
   "cell_type": "markdown",
   "id": "c47a4ab7-3b09-4b25-85a8-6bdce3e8d4f6",
   "metadata": {},
   "source": [
    "### Program 4 - Create a list named movies where each element is a tuple. Each tuple should contain a movie title and its release year (e.g., [(&#39;Inception&#39;, 2010), (&#39;Toy Story&#39;, 1995)]). Add a new movie tuple to the list.  Loop through the list and print each movie&#39;s title and year in a formatted string."
   ]
  },
  {
   "cell_type": "code",
   "execution_count": 12,
   "id": "fc3864c7-fcb3-4d13-82bd-f44767469f9b",
   "metadata": {},
   "outputs": [
    {
     "name": "stdin",
     "output_type": "stream",
     "text": [
      "Enter movie titles and release year Interstellar, 2014\n"
     ]
    },
    {
     "name": "stdout",
     "output_type": "stream",
     "text": [
      "[('Inception', 2010), ('Toy Story', 1995), ('Titanic', 1997), ('Interstellar', 2014)]\n",
      "Title of the movie is Inception and release year is 2010\n",
      "Title of the movie is Toy Story and release year is 1995\n",
      "Title of the movie is Titanic and release year is 1997\n",
      "Title of the movie is Interstellar and release year is 2014\n"
     ]
    }
   ],
   "source": [
    "movies = [('Inception', 2010), ('Toy Story', 1995), ('Titanic', 1997)]\n",
    "\n",
    "data = input(\"Enter movie titles and release year\").split(\",\")\n",
    "movies.append((data[0], int(data[1])))\n",
    "\n",
    "print(movies)\n",
    "for title, year in movies:\n",
    "    print(f\"Title of the movie is {title} and release year is {year}\")"
   ]
  },
  {
   "cell_type": "code",
   "execution_count": null,
   "id": "f1de5afc-43ee-48bc-b281-4b000dc5c53c",
   "metadata": {},
   "outputs": [],
   "source": []
  },
  {
   "cell_type": "markdown",
   "id": "a606bbe4-bde2-492d-b4c9-d187efb42493",
   "metadata": {},
   "source": [
    "### Program 5 - Create a dictionary named employee that stores information for one employee. It should have the keys: &#39;name&#39;, &#39;department&#39;, and &#39;skills&#39;.  The value for &#39;skills&#39; should be a list of programming languages the employee knows (e.g., [&#39;Python&#39;, &#39;SQL&#39;]).  Print the employee&#39;s name and their second skill."
   ]
  },
  {
   "cell_type": "code",
   "execution_count": 14,
   "id": "27b2d7a7-ed1b-4053-b83e-3c6194513227",
   "metadata": {},
   "outputs": [
    {
     "name": "stdin",
     "output_type": "stream",
     "text": [
      "Enter employee name:  John\n",
      "Enter department:  IT\n",
      "Enter skills:  Python, Java, SQL\n"
     ]
    },
    {
     "name": "stdout",
     "output_type": "stream",
     "text": [
      "Name of the employee is John\n",
      "Second skill of the employee is Java\n"
     ]
    }
   ],
   "source": [
    "name = input(\"Enter employee name: \")\n",
    "department = input(\"Enter department: \")\n",
    "\n",
    "skills = input(\"Enter skills: \").split(\",\")\n",
    "\n",
    "skills = [skill.strip() for skill in skills]\n",
    "\n",
    "employee = {\n",
    "    \"name\": name,\n",
    "    \"department\": department,\n",
    "    \"skills\": skills\n",
    "}\n",
    "\n",
    "print(\"Name of the employee is\", employee[\"name\"])\n",
    "print(\"Second skill of the employee is\", employee[\"skills\"][1])"
   ]
  },
  {
   "cell_type": "code",
   "execution_count": null,
   "id": "531887cf-a7c4-4f92-a7e1-882549b341b7",
   "metadata": {},
   "outputs": [],
   "source": []
  },
  {
   "cell_type": "markdown",
   "id": "a7925a50-4b79-49ea-b50c-f403f4947d49",
   "metadata": {},
   "source": [
    "### Program 6 - Create a list of names: names_list = [&#39;Alice&#39;, &#39;Bob&#39;, &#39;Charlie&#39;].  Convert this list into a tuple.  Try to change the first element of the new tuple to &#39;David&#39;. Observe and note what happens."
   ]
  },
  {
   "cell_type": "code",
   "execution_count": 15,
   "id": "a89a90a9-537c-4423-a3f9-d828bdcb159e",
   "metadata": {},
   "outputs": [
    {
     "name": "stdout",
     "output_type": "stream",
     "text": [
      "No possible to change the values in a tuple\n"
     ]
    }
   ],
   "source": [
    "names_list = ['Alice', 'Bob', 'Charlie']\n",
    "names_tuple = tuple(names_list)\n",
    "try:\n",
    "    names_tuple[0] = 'John'\n",
    "except TypeError:\n",
    "    print(\"No possible to change the values in a tuple\")"
   ]
  },
  {
   "cell_type": "code",
   "execution_count": null,
   "id": "5ba2ae93-971f-4877-a2fd-c7626cc4f47e",
   "metadata": {},
   "outputs": [],
   "source": []
  },
  {
   "cell_type": "markdown",
   "id": "09a36d15-ec3a-4d75-a56a-1bff239db169",
   "metadata": {},
   "source": [
    "### Program 7 - Create a list fruits = [&#39;apple&#39;, &#39;banana&#39;, &#39;mango&#39;].  Ask the user to input a fruit name.  Check if the fruit is in the list and print an appropriate message (e.g., &quot;Yes, we have bananas!&quot;).  Now, check for the same fruit in the keys of this dictionary: prices = {&#39;apple&#39;: 1.0, &#39;banana&#39;: 0.5, &#39;orange&#39;: 0.75}."
   ]
  },
  {
   "cell_type": "code",
   "execution_count": 16,
   "id": "7466616f-1214-4a3f-8a89-14e2eaa69c83",
   "metadata": {},
   "outputs": [
    {
     "name": "stdin",
     "output_type": "stream",
     "text": [
      "Enter the name of the fruit apple\n"
     ]
    },
    {
     "name": "stdout",
     "output_type": "stream",
     "text": [
      "Yes, we have apple\n",
      "Price of apple is  1.0\n"
     ]
    }
   ],
   "source": [
    "fruits = ['apple', 'mango', 'banana']\n",
    "f_name = input(\"Enter the name of the fruit\")\n",
    "\n",
    "prices = {'apple': 1.0, 'banana': 0.5, 'orange': 0.75}\n",
    "\n",
    "if f_name.lower() in fruits:\n",
    "    print(f\"Yes, we have {f_name.lower()}\")\n",
    "    if f_name.lower() in prices:\n",
    "        print(f\"Price of {f_name.lower()} is \", prices[f_name.lower()])\n",
    "else:\n",
    "    print(f\"No, we don't have {f_name.lower()}s\")  "
   ]
  },
  {
   "cell_type": "code",
   "execution_count": null,
   "id": "04137c2f-d8f4-4b65-9063-a7787155958c",
   "metadata": {},
   "outputs": [],
   "source": []
  },
  {
   "cell_type": "markdown",
   "id": "1b45f4c5-c634-4fd1-b88f-3938aa448349",
   "metadata": {},
   "source": [
    "### Program 8 - Create a dictionary called grades where the key is a student&#39;s name and the value is a list of their test scores (e.g., {&#39;Alice&#39;: [85, 90, 78], &#39;Bob&#39;: [92, 88, 95]}).  Calculate and print the average test score for a specific student (e.g., Alice). sum(list) / len(list)"
   ]
  },
  {
   "cell_type": "code",
   "execution_count": 17,
   "id": "8b80d5de-9043-48c7-9652-7fd580ddf73e",
   "metadata": {},
   "outputs": [
    {
     "name": "stdin",
     "output_type": "stream",
     "text": [
      "Enter name of the student:  John\n",
      "Enter marks of subject 1:  94\n",
      "Enter marks of subject 2:  79\n",
      "Enter marks of subject 3:  85\n",
      "Enter name of the student:  Charlie\n",
      "Enter marks of subject 1:  76\n",
      "Enter marks of subject 2:  88\n",
      "Enter marks of subject 3:  90\n"
     ]
    },
    {
     "name": "stdout",
     "output_type": "stream",
     "text": [
      "Average score of John is 86.0\n",
      "Average score of Charlie is 84.66666666666667\n"
     ]
    }
   ],
   "source": [
    "grades = {}\n",
    "\n",
    "for i in range(2):\n",
    "    name = input(\"Enter name of the student: \")\n",
    "    marks = [int(input(f\"Enter marks of subject {j}: \")) for j in range(1, 4)]\n",
    "    grades[name] = marks\n",
    "\n",
    "for name, scores in grades.items():\n",
    "    total_marks = sum(scores)\n",
    "    num_of_subjects = len(scores)\n",
    "    avg_marks = total_marks / num_of_subjects\n",
    "    print(f\"Average score of {name} is {avg_marks}\")"
   ]
  },
  {
   "cell_type": "code",
   "execution_count": null,
   "id": "84060772-91e7-4532-b9c8-246bdf52c033",
   "metadata": {},
   "outputs": [],
   "source": []
  },
  {
   "cell_type": "markdown",
   "id": "b5f0152d-8ecf-4a3c-949d-b59ca010ecfe",
   "metadata": {},
   "source": [
    "### Program 9 - Create a tuple called point that represents a 2D coordinate (e.g., (5, -3)).  Use tuple unpacking to assign the values to two variables, x and y.  Print the values of x and y and then calculate the distance from the origin (0, 0) using the formula: (x**2 + y**2)**0.5."
   ]
  },
  {
   "cell_type": "code",
   "execution_count": 44,
   "id": "3653cc2d-444e-4dee-b621-7f8873931fef",
   "metadata": {},
   "outputs": [
    {
     "name": "stdout",
     "output_type": "stream",
     "text": [
      "5 -3\n",
      "Distance from origin is:  5.830951894845301\n"
     ]
    }
   ],
   "source": [
    "points = (5,-3)\n",
    "x = points[0]\n",
    "y = points[1]\n",
    "\n",
    "print(x,y)\n",
    "print('Distance from origin is: ', (x**2 + y**2)**0.5)"
   ]
  },
  {
   "cell_type": "code",
   "execution_count": null,
   "id": "04b599f6-9597-4755-9205-7bee19ffddb7",
   "metadata": {},
   "outputs": [],
   "source": []
  },
  {
   "cell_type": "markdown",
   "id": "348e8849-ca85-4f63-b56f-85c061e4055b",
   "metadata": {},
   "source": [
    "### Program 10 - Create a dictionary called menu where the keys are item names and the values are their prices. * Create an empty list called order. * Simulate a customer ordering by asking them to input two item names from the menu. Add each item to the order list. * Calculate the total cost of the order by looking up each item in the order list within the menu dictionary and summing their prices. * Print the total bill amount."
   ]
  },
  {
   "cell_type": "code",
   "execution_count": 18,
   "id": "d094f440-cef3-4433-989a-f9bdc296bb6b",
   "metadata": {},
   "outputs": [
    {
     "name": "stdin",
     "output_type": "stream",
     "text": [
      "Enter the item 1 bread\n",
      "Enter the price of the item 1 50\n",
      "Enter the item 2 butter\n",
      "Enter the price of the item 2 150\n",
      "Enter the item 3 biscuit\n",
      "Enter the price of the item 3 34\n",
      "Enter the name of the customer Charlie\n",
      "Please, enter the item that you would like to have -  bread, butter\n"
     ]
    },
    {
     "name": "stdout",
     "output_type": "stream",
     "text": [
      "200\n"
     ]
    }
   ],
   "source": [
    "menu = {}\n",
    "\n",
    "for i in range(3):\n",
    "    item = input(f\"Enter the item {i+1}\")\n",
    "    price = int(input(f\"Enter the price of the item {i+1}\"))\n",
    "    menu[item] = price\n",
    "\n",
    "order = []\n",
    "\n",
    "name = input(\"Enter the name of the customer\")\n",
    "items = input(\"Please, enter the item that you would like to have - \").split(\",\")\n",
    "items = [item.strip() for item in items]\n",
    "\n",
    "for i in items:\n",
    "    order.append(i)\n",
    "\n",
    "total_amount = 0\n",
    "for o in order:\n",
    "    total_amount += menu[o]\n",
    "\n",
    "print(total_amount)"
   ]
  },
  {
   "cell_type": "code",
   "execution_count": null,
   "id": "6d0ed02a-255c-40ed-b37e-2848f6800589",
   "metadata": {},
   "outputs": [],
   "source": []
  }
 ],
 "metadata": {
  "kernelspec": {
   "display_name": "Python 3 (ipykernel)",
   "language": "python",
   "name": "python3"
  },
  "language_info": {
   "codemirror_mode": {
    "name": "ipython",
    "version": 3
   },
   "file_extension": ".py",
   "mimetype": "text/x-python",
   "name": "python",
   "nbconvert_exporter": "python",
   "pygments_lexer": "ipython3",
   "version": "3.13.1"
  }
 },
 "nbformat": 4,
 "nbformat_minor": 5
}
