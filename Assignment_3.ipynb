{
 "cells": [
  {
   "cell_type": "raw",
   "id": "cbc45104-a7a3-4803-8ed8-b26741aab81c",
   "metadata": {},
   "source": [
    "1. The Basic Try-Except."
   ]
  },
  {
   "cell_type": "raw",
   "id": "cbfe5b80-3c49-47f7-9f81-9cbcfc823c4b",
   "metadata": {},
   "source": [
    "Write a program that asks the user for two numbers and divides the first by the second. Use a try-except block to catch and handle any ZeroDivisionError, printing a friendly error message like \"Error: You cannot divide by zero!\" instead of letting the program crash."
   ]
  },
  {
   "cell_type": "code",
   "execution_count": 14,
   "id": "82e87951-07d6-4df3-a511-b21f464c184d",
   "metadata": {},
   "outputs": [
    {
     "name": "stdin",
     "output_type": "stream",
     "text": [
      "Enter Numbr a =  5\n",
      "Enter Numbr b =  0\n"
     ]
    },
    {
     "name": "stdout",
     "output_type": "stream",
     "text": [
      "You Can't divide 5 by 0.\n"
     ]
    }
   ],
   "source": [
    "a = int(input(\"Enter Numbr a = \"))\n",
    "b = int(input(\"Enter Numbr b = \"))\n",
    "\n",
    "try:\n",
    "    f = a//b\n",
    "    print(f\"This is the devision of {a} and {b} = {f}.\")\n",
    "except:\n",
    "    print(f\"You Can't divide {a} by {b}.\")\n"
   ]
  },
  {
   "cell_type": "code",
   "execution_count": null,
   "id": "bbf9f38a-7695-47c0-90f9-108143b68699",
   "metadata": {},
   "outputs": [],
   "source": []
  },
  {
   "cell_type": "raw",
   "id": "4accce89-f69e-4156-a4c6-6e51eedb58d3",
   "metadata": {},
   "source": [
    "2. Handling Multiple Exception."
   ]
  },
  {
   "cell_type": "raw",
   "id": "fdee4fc9-066c-4bc9-bebd-a686a1d5bbca",
   "metadata": {},
   "source": [
    "Modify the program from question 1. Now, also handle a ValueError that occurs if the user enters something that isn't a number (e.g., a letter). Print an appropriate message for this error as well (e.g., \"Error: Please enter only numbers.\")."
   ]
  },
  {
   "cell_type": "code",
   "execution_count": 33,
   "id": "f434a3d3-ec01-4352-876f-b624842a1339",
   "metadata": {},
   "outputs": [
    {
     "name": "stdin",
     "output_type": "stream",
     "text": [
      "Enter Numbr a =  5\n",
      "Enter Numbr b =  k\n"
     ]
    },
    {
     "name": "stdout",
     "output_type": "stream",
     "text": [
      "Error: Enter an integer number. \n"
     ]
    }
   ],
   "source": [
    "try:\n",
    "    a = int(input(\"Enter Numbr a = \"))\n",
    "    b = int(input(\"Enter Numbr b = \"))\n",
    "    f = a//b\n",
    "    print(f\"This is the devision of {a} and {b} = {f}.\")\n",
    "except ZeroDivisionError:\n",
    "    print(f\"You Can't divide {a} by {b}.\")\n",
    "except ValueError:\n",
    "    print(f\"Error: Enter an integer number. \")"
   ]
  },
  {
   "cell_type": "code",
   "execution_count": null,
   "id": "b70ec38f-339a-409c-a13a-e93904ef4ed7",
   "metadata": {},
   "outputs": [],
   "source": []
  },
  {
   "cell_type": "raw",
   "id": "6509cd1d-db1d-4e9d-9875-6416100dc668",
   "metadata": {},
   "source": [
    "3. The Else Clause."
   ]
  },
  {
   "cell_type": "raw",
   "id": "1f68a4db-9c6d-402d-8fa3-9b5ef97cf6f5",
   "metadata": {},
   "source": [
    "Extend the division program further. Use a try-except-else block. If the division is successful (no exception is raised), use the else clause to print the result with a message like \"The result is: [result]\"."
   ]
  },
  {
   "cell_type": "code",
   "execution_count": 37,
   "id": "4d6d19a0-2f64-41cb-9240-2578bf9a15d6",
   "metadata": {},
   "outputs": [
    {
     "name": "stdin",
     "output_type": "stream",
     "text": [
      "Enter Numbr a =  45\n",
      "Enter Numbr b =  6\n"
     ]
    },
    {
     "name": "stdout",
     "output_type": "stream",
     "text": [
      "This is the devision of 45 and 6 = 7.\n",
      "The result is : 7\n"
     ]
    }
   ],
   "source": [
    "try:\n",
    "    a = int(input(\"Enter Numbr a = \"))\n",
    "    b = int(input(\"Enter Numbr b = \"))\n",
    "    result = a//b\n",
    "    print(f\"This is the devision of {a} and {b} = {result}.\")\n",
    "except ZeroDivisionError:\n",
    "    print(f\"You Can't divide {a} by {b}.\")\n",
    "except ValueError:\n",
    "    print(f\"Error: Enter an integer number. \")\n",
    "else:\n",
    "    print(f\"The result is : {result}\")"
   ]
  },
  {
   "cell_type": "code",
   "execution_count": null,
   "id": "eea77da1-9590-4143-9f93-4ad4d91e4251",
   "metadata": {},
   "outputs": [],
   "source": []
  },
  {
   "cell_type": "raw",
   "id": "29284e15-820a-4c27-9880-237a3712f296",
   "metadata": {},
   "source": [
    "4. The Finally Clause."
   ]
  },
  {
   "cell_type": "raw",
   "id": "ff0c49ac-07d9-45e7-b67b-16c6328abf27",
   "metadata": {},
   "source": [
    "You are reading a number from a file called data.txt.\n",
    "•\tInside a try block, open the file, read the contents, and convert it to an integer.\n",
    "•\tHandle a FileNotFoundError if the file doesn't exist.\n",
    "•\tHandle a ValueError if the file's content can't be converted to an integer.\n",
    "•\tUse a finally block to print a message saying \"File operation attempted.\" This message should print whether an exception occurred or not.\n"
   ]
  },
  {
   "cell_type": "code",
   "execution_count": 41,
   "id": "e039b875-19a4-4717-ad65-565236185415",
   "metadata": {},
   "outputs": [
    {
     "name": "stdout",
     "output_type": "stream",
     "text": [
      "File is not found in the system.\n",
      "File operation attempted.\n"
     ]
    }
   ],
   "source": [
    "try:\n",
    "    with open(\"data.txt\", \"r\") as File:\n",
    "        content = File.read()\n",
    "        number = int(content)\n",
    "        print(f\"This is the number in the file : {number}\")\n",
    "except FileNotFoundError:\n",
    "    print(\"File is not found in the system.\")\n",
    "except ValueError:\n",
    "    print(\"Value is not found in the file.\")\n",
    "finally:\n",
    "    print(\"File operation attempted.\")\n",
    "        \n",
    "    "
   ]
  },
  {
   "cell_type": "code",
   "execution_count": null,
   "id": "cd76bbb4-b76b-4bc2-8950-72ac00d2662d",
   "metadata": {},
   "outputs": [],
   "source": []
  },
  {
   "cell_type": "raw",
   "id": "55437096-c546-4795-bf7d-22f2814347e9",
   "metadata": {},
   "source": [
    "5. Getting Exception Information."
   ]
  },
  {
   "cell_type": "raw",
   "id": "9ffb113f-5fdd-4a78-b3f9-6b8be74a3cff",
   "metadata": {},
   "source": [
    "Write a program that tries to access the fifth element of the list my_list = [10, 20, 30]. Catch the resulting exception (likely an IndexError). In your except block, print both a custom error message and the standard error message from the exception object itself. "
   ]
  },
  {
   "cell_type": "code",
   "execution_count": 43,
   "id": "098d8545-001a-4d36-875b-2ef0a866b576",
   "metadata": {},
   "outputs": [
    {
     "name": "stdout",
     "output_type": "stream",
     "text": [
      "This is no such index in the list.\n"
     ]
    }
   ],
   "source": [
    "my_list = [10,20,30]\n",
    "try:\n",
    "    a = my_list[5]\n",
    "except IndexError:\n",
    "    print(\"This is no such index in the list.\")"
   ]
  },
  {
   "cell_type": "code",
   "execution_count": null,
   "id": "abdfac5f-e477-48f6-a771-412540ec574b",
   "metadata": {},
   "outputs": [],
   "source": []
  },
  {
   "cell_type": "raw",
   "id": "2ea5793e-f253-4987-bd96-77d2910df601",
   "metadata": {},
   "source": [
    "6. Raising an Exception."
   ]
  },
  {
   "cell_type": "raw",
   "id": "b1d34139-5001-4613-b420-2ca472c85aac",
   "metadata": {},
   "source": []
  },
  {
   "cell_type": "code",
   "execution_count": 56,
   "id": "8fbf5e9e-1488-4a4b-b26a-fb6ba89b258a",
   "metadata": {},
   "outputs": [
    {
     "name": "stdout",
     "output_type": "stream",
     "text": [
      "Age can't be negative. \n"
     ]
    }
   ],
   "source": [
    "def check_age(age):\n",
    "    try:\n",
    "        if(age <= 0):\n",
    "            raise ValueError(\"Age can't be negative. \")\n",
    "        print(\"You Entered : \", age)\n",
    "    except ValueError as e:\n",
    "        print(e)\n",
    "check_age(-1)"
   ]
  },
  {
   "cell_type": "code",
   "execution_count": null,
   "id": "e39315f9-0526-40b9-bda6-da29386e2c62",
   "metadata": {},
   "outputs": [],
   "source": []
  }
 ],
 "metadata": {
  "kernelspec": {
   "display_name": "Python [conda env:base] *",
   "language": "python",
   "name": "conda-base-py"
  },
  "language_info": {
   "codemirror_mode": {
    "name": "ipython",
    "version": 3
   },
   "file_extension": ".py",
   "mimetype": "text/x-python",
   "name": "python",
   "nbconvert_exporter": "python",
   "pygments_lexer": "ipython3",
   "version": "3.13.5"
  }
 },
 "nbformat": 4,
 "nbformat_minor": 5
}
