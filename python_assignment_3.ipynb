{
 "cells": [
  {
   "cell_type": "markdown",
   "id": "1ac10d48-59bb-4017-9a08-c6697c3544fc",
   "metadata": {},
   "source": [
    "# 1. The Basic Try-Except."
   ]
  },
  {
   "cell_type": "markdown",
   "id": "b7a4b336-476c-4c23-b33f-cc9bb1b9f717",
   "metadata": {},
   "source": [
    "##### Write a program that asks the user for two numbers and divides the first by the second. Use a try-except block to catch and handle any ZeroDivisionError, printing a friendly error message like \"Error: You cannot divide by zero!\" instead of letting the program crash."
   ]
  },
  {
   "cell_type": "code",
   "execution_count": 14,
   "id": "82e87951-07d6-4df3-a511-b21f464c184d",
   "metadata": {},
   "outputs": [
    {
     "name": "stdin",
     "output_type": "stream",
     "text": [
      "Enter Numbr a =  5\n",
      "Enter Numbr b =  0\n"
     ]
    },
    {
     "name": "stdout",
     "output_type": "stream",
     "text": [
      "You Can't divide 5 by 0.\n"
     ]
    }
   ],
   "source": [
    "a = int(input(\"Enter Numbr a = \"))\n",
    "b = int(input(\"Enter Numbr b = \"))\n",
    "\n",
    "try:\n",
    "    f = a//b\n",
    "    print(f\"This is the devision of {a} and {b} = {f}.\")\n",
    "except:\n",
    "    print(f\"You Can't divide {a} by {b}.\")\n"
   ]
  },
  {
   "cell_type": "code",
   "execution_count": null,
   "id": "bbf9f38a-7695-47c0-90f9-108143b68699",
   "metadata": {},
   "outputs": [],
   "source": []
  },
  {
   "cell_type": "markdown",
   "id": "51ee2e01-b24b-4177-aeac-29b04831cc20",
   "metadata": {},
   "source": [
    "# 2. Handling Multiple Exception."
   ]
  },
  {
   "cell_type": "markdown",
   "id": "51d6f4e5-f59c-4f6b-9bd9-93b02f732abe",
   "metadata": {},
   "source": [
    "##### Modify the program from question 1. Now, also handle a ValueError that occurs if the user enters something that isn't a number (e.g., a letter). Print an appropriate message for this error as well (e.g., \"Error: Please enter only numbers.\")."
   ]
  },
  {
   "cell_type": "code",
   "execution_count": 33,
   "id": "f434a3d3-ec01-4352-876f-b624842a1339",
   "metadata": {},
   "outputs": [
    {
     "name": "stdin",
     "output_type": "stream",
     "text": [
      "Enter Numbr a =  5\n",
      "Enter Numbr b =  k\n"
     ]
    },
    {
     "name": "stdout",
     "output_type": "stream",
     "text": [
      "Error: Enter an integer number. \n"
     ]
    }
   ],
   "source": [
    "try:\n",
    "    a = int(input(\"Enter Numbr a = \"))\n",
    "    b = int(input(\"Enter Numbr b = \"))\n",
    "    f = a//b\n",
    "    print(f\"This is the devision of {a} and {b} = {f}.\")\n",
    "except ZeroDivisionError:\n",
    "    print(f\"You Can't divide {a} by {b}.\")\n",
    "except ValueError:\n",
    "    print(f\"Error: Enter an integer number. \")"
   ]
  },
  {
   "cell_type": "code",
   "execution_count": null,
   "id": "b70ec38f-339a-409c-a13a-e93904ef4ed7",
   "metadata": {},
   "outputs": [],
   "source": []
  },
  {
   "cell_type": "markdown",
   "id": "53adbeac-9c9f-474c-97f2-6f183a854088",
   "metadata": {},
   "source": [
    "# 3. The Else Clause."
   ]
  },
  {
   "cell_type": "markdown",
   "id": "3f86affe-b2c4-47c0-87a2-d439cd8a1eba",
   "metadata": {},
   "source": [
    "##### Extend the division program further. Use a try-except-else block. If the division is successful (no exception is raised), use the else clause to print the result with a message like \"The result is: [result]\"."
   ]
  },
  {
   "cell_type": "code",
   "execution_count": 37,
   "id": "4d6d19a0-2f64-41cb-9240-2578bf9a15d6",
   "metadata": {},
   "outputs": [
    {
     "name": "stdin",
     "output_type": "stream",
     "text": [
      "Enter Numbr a =  45\n",
      "Enter Numbr b =  6\n"
     ]
    },
    {
     "name": "stdout",
     "output_type": "stream",
     "text": [
      "This is the devision of 45 and 6 = 7.\n",
      "The result is : 7\n"
     ]
    }
   ],
   "source": [
    "try:\n",
    "    a = int(input(\"Enter Numbr a = \"))\n",
    "    b = int(input(\"Enter Numbr b = \"))\n",
    "    result = a//b\n",
    "    print(f\"This is the devision of {a} and {b} = {result}.\")\n",
    "except ZeroDivisionError:\n",
    "    print(f\"You Can't divide {a} by {b}.\")\n",
    "except ValueError:\n",
    "    print(f\"Error: Enter an integer number. \")\n",
    "else:\n",
    "    print(f\"The result is : {result}\")"
   ]
  },
  {
   "cell_type": "code",
   "execution_count": null,
   "id": "eea77da1-9590-4143-9f93-4ad4d91e4251",
   "metadata": {},
   "outputs": [],
   "source": []
  },
  {
   "cell_type": "markdown",
   "id": "a6f60086-05dd-47b7-8555-6dc0ac6b2173",
   "metadata": {},
   "source": [
    "# 4. The Finally Clause."
   ]
  },
  {
   "cell_type": "markdown",
   "id": "dc768781-069a-4329-8216-04855a244379",
   "metadata": {},
   "source": [
    "##### You are reading a number from a file called data.txt.\n",
    "•\tInside a try block, open the file, read the contents, and convert it to an integer.\n",
    "•\tHandle a FileNotFoundError if the file doesn't exist.\n",
    "•\tHandle a ValueError if the file's content can't be converted to an integer.\n",
    "•\tUse a finally block to print a message saying \"File operation attempted.\" This message should print whether an exception occurred or not.\n"
   ]
  },
  {
   "cell_type": "code",
   "execution_count": 41,
   "id": "e039b875-19a4-4717-ad65-565236185415",
   "metadata": {},
   "outputs": [
    {
     "name": "stdout",
     "output_type": "stream",
     "text": [
      "File is not found in the system.\n",
      "File operation attempted.\n"
     ]
    }
   ],
   "source": [
    "try:\n",
    "    with open(\"data.txt\", \"r\") as File:\n",
    "        content = File.read()\n",
    "        number = int(content)\n",
    "        print(f\"This is the number in the file : {number}\")\n",
    "except FileNotFoundError:\n",
    "    print(\"File is not found in the system.\")\n",
    "except ValueError:\n",
    "    print(\"Value is not found in the file.\")\n",
    "finally:\n",
    "    print(\"File operation attempted.\")\n",
    "        \n",
    "    "
   ]
  },
  {
   "cell_type": "code",
   "execution_count": null,
   "id": "cd76bbb4-b76b-4bc2-8950-72ac00d2662d",
   "metadata": {},
   "outputs": [],
   "source": []
  },
  {
   "cell_type": "markdown",
   "id": "fd5230a0-cb6c-4a28-9eea-0e8232b55d09",
   "metadata": {},
   "source": [
    "5. Getting Exception Information."
   ]
  },
  {
   "cell_type": "markdown",
   "id": "5b757ae9-912d-4654-b9e3-02f6ac225fa9",
   "metadata": {},
   "source": [
    "Write a program that tries to access the fifth element of the list my_list = [10, 20, 30]. Catch the resulting exception (likely an IndexError). In your except block, print both a custom error message and the standard error message from the exception object itself. "
   ]
  },
  {
   "cell_type": "code",
   "execution_count": 43,
   "id": "098d8545-001a-4d36-875b-2ef0a866b576",
   "metadata": {},
   "outputs": [
    {
     "name": "stdout",
     "output_type": "stream",
     "text": [
      "This is no such index in the list.\n"
     ]
    }
   ],
   "source": [
    "my_list = [10,20,30]\n",
    "try:\n",
    "    a = my_list[5]\n",
    "except IndexError:\n",
    "    print(\"This is no such index in the list.\")"
   ]
  },
  {
   "cell_type": "code",
   "execution_count": null,
   "id": "abdfac5f-e477-48f6-a771-412540ec574b",
   "metadata": {},
   "outputs": [],
   "source": []
  },
  {
   "cell_type": "markdown",
   "id": "c5ac26af-8915-4e72-a6f9-f0b2b6f4b216",
   "metadata": {},
   "source": [
    "6. Raising an Exception."
   ]
  },
  {
   "cell_type": "markdown",
   "id": "58952748-4a4e-46e1-b0da-917e18e91dfe",
   "metadata": {},
   "source": [
    "Create a function called check_age(age) that takes an age. If the age is negative, raise a ValueError with a custom message like \"Age cannot be negative!\". Otherwise, print \"Age is valid.\" Write code to call this function and handle the potential ValueError."
   ]
  },
  {
   "cell_type": "code",
   "execution_count": 56,
   "id": "8fbf5e9e-1488-4a4b-b26a-fb6ba89b258a",
   "metadata": {},
   "outputs": [
    {
     "name": "stdout",
     "output_type": "stream",
     "text": [
      "Age can't be negative. \n"
     ]
    }
   ],
   "source": [
    "def check_age(age):\n",
    "    try:\n",
    "        if(age <= 0):\n",
    "            raise ValueError(\"Age can't be negative. \")\n",
    "        print(\"You Entered : \", age)\n",
    "    except ValueError as e:\n",
    "        print(e)\n",
    "check_age(-1)"
   ]
  }
 ],
 "metadata": {
  "kernelspec": {
   "display_name": "Python [conda env:base] *",
   "language": "python",
   "name": "conda-base-py"
  },
  "language_info": {
   "codemirror_mode": {
    "name": "ipython",
    "version": 3
   },
   "file_extension": ".py",
   "mimetype": "text/x-python",
   "name": "python",
   "nbconvert_exporter": "python",
   "pygments_lexer": "ipython3",
   "version": "3.13.5"
  }
 },
 "nbformat": 4,
 "nbformat_minor": 5
}
