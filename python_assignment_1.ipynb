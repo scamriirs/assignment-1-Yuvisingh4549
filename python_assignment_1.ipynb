{
 "cells": [
  {
   "cell_type": "markdown",
   "id": "52bc5cac-f6e3-45aa-9f9c-05ba3da5c97b",
   "metadata": {},
   "source": [
    "#Program 1 - "
   ]
  },
  {
   "cell_type": "code",
   "execution_count": 1,
   "id": "5d18057c-7fd9-4e40-bb28-a4cfd4fcc66a",
   "metadata": {},
   "outputs": [
    {
     "name": "stdout",
     "output_type": "stream",
     "text": [
      "First element is small\n"
     ]
    }
   ],
   "source": [
    "l = [10, 20, 30, 40]\n",
    "if l[0] > 25:\n",
    "    print(\"First element is large\")\n",
    "else:\n",
    "    print(\"First element is small\")"
   ]
  },
  {
   "cell_type": "code",
   "execution_count": null,
   "id": "65952671-15db-4c0b-84da-7038a498ecb4",
   "metadata": {},
   "outputs": [],
   "source": []
  },
  {
   "cell_type": "markdown",
   "id": "c2f22447-0fdb-4f93-b7ea-1f95c070f844",
   "metadata": {},
   "source": [
    "#Program 2 - "
   ]
  },
  {
   "cell_type": "code",
   "execution_count": 2,
   "id": "7f1bb40d-d217-44e8-9403-89c784d6e9ce",
   "metadata": {},
   "outputs": [
    {
     "name": "stdout",
     "output_type": "stream",
     "text": [
      "['Fail', 'Pass', 'Pass', 'Pass', 'Pass', 'Fail']\n"
     ]
    }
   ],
   "source": [
    "scores = [45,67,89,92,54,31]\n",
    "l1 = []\n",
    "for i in range(len(scores)):\n",
    "    if scores[i] >= 50:\n",
    "        l1.append(\"Pass\")\n",
    "    else:\n",
    "        l1.append(\"Fail\")\n",
    "\n",
    "print(l1)"
   ]
  },
  {
   "cell_type": "code",
   "execution_count": null,
   "id": "ce838475-6abd-49ab-91aa-fd5c7e728526",
   "metadata": {},
   "outputs": [],
   "source": []
  },
  {
   "cell_type": "markdown",
   "id": "b9c61a3d-e623-4feb-a5a6-5f86de3b2976",
   "metadata": {},
   "source": [
    "#Program 3 -"
   ]
  },
  {
   "cell_type": "code",
   "execution_count": 3,
   "id": "a71de2cc-176d-4979-bcc3-70469888018d",
   "metadata": {},
   "outputs": [
    {
     "name": "stdin",
     "output_type": "stream",
     "text": [
      "Enter your favourite fruit apple\n"
     ]
    },
    {
     "name": "stdout",
     "output_type": "stream",
     "text": [
      "Yes, the fruit is in the list\n"
     ]
    }
   ],
   "source": [
    "fruits_list = ['apple', 'banana', 'mango', 'grape']\n",
    "fruit = input(\"Enter your favourite fruit\")\n",
    "\n",
    "if fruit in fruits_list:\n",
    "    print(\"Yes, the fruit is in the list\")\n",
    "else:\n",
    "    print(\"No, the fruit is not in the list\")"
   ]
  },
  {
   "cell_type": "code",
   "execution_count": null,
   "id": "fff52031-bf55-4167-b6a9-d78d23a26166",
   "metadata": {},
   "outputs": [],
   "source": []
  },
  {
   "cell_type": "markdown",
   "id": "f8ae35a9-ebc9-449e-b9c2-9d1e843de760",
   "metadata": {},
   "source": [
    "#Pragram 4 -"
   ]
  },
  {
   "cell_type": "code",
   "execution_count": 4,
   "id": "47f7260f-1771-46cf-81cf-6c4d6f2fcebf",
   "metadata": {},
   "outputs": [
    {
     "name": "stdout",
     "output_type": "stream",
     "text": [
      "15\n"
     ]
    }
   ],
   "source": [
    "l3 = [1,-2,3,-4,5,6]\n",
    "s = 0\n",
    "\n",
    "for i in l3:\n",
    "    if i > 0:\n",
    "     s += i\n",
    "\n",
    "print(s)"
   ]
  },
  {
   "cell_type": "code",
   "execution_count": null,
   "id": "097d5230-a90c-4c3e-ab7b-da51d1330a7a",
   "metadata": {},
   "outputs": [],
   "source": []
  },
  {
   "cell_type": "markdown",
   "id": "08d66ed1-de7c-4af4-97c2-3db6917b60fb",
   "metadata": {},
   "source": [
    "#Program 5 -"
   ]
  },
  {
   "cell_type": "code",
   "execution_count": 5,
   "id": "fe03b7f7-b636-4c9e-9378-fc052894ebf8",
   "metadata": {},
   "outputs": [
    {
     "name": "stdout",
     "output_type": "stream",
     "text": [
      "Maximum number in the list is  330\n"
     ]
    }
   ],
   "source": [
    "l4 = [120,330,40,550,60]\n",
    "maxi = -1\n",
    "\n",
    "for i in range(len(l4)):\n",
    "    if l4[i] < 500:\n",
    "        maxi = max(maxi,l4[i])\n",
    "\n",
    "if maxi == -1:\n",
    "    print(\"No valid number found\")\n",
    "else:\n",
    "    print(\"Maximum number in the list is \", maxi)"
   ]
  },
  {
   "cell_type": "code",
   "execution_count": null,
   "id": "0014abce-c0c7-4d5d-9917-2da4e2c6b24c",
   "metadata": {},
   "outputs": [],
   "source": []
  },
  {
   "cell_type": "markdown",
   "id": "03339880-b672-4242-a5c9-45db0c189e23",
   "metadata": {},
   "source": [
    "#Program 6 -"
   ]
  },
  {
   "cell_type": "code",
   "execution_count": 6,
   "id": "ec6a37ac-e2c4-46d5-93dd-5e420489de43",
   "metadata": {},
   "outputs": [
    {
     "name": "stdout",
     "output_type": "stream",
     "text": [
      "List of integers  [12, 33, 100]\n",
      "List of strigs  ['hello', 'world']\n"
     ]
    }
   ],
   "source": [
    "l5 = [12,'hello',33,'world',7.5,100]\n",
    "int_list = []\n",
    "strings_list = []\n",
    "\n",
    "for i in l5:\n",
    "    if type(i) == int:\n",
    "        int_list.append(i)\n",
    "    elif type(i) == str:\n",
    "        strings_list.append(i)\n",
    "\n",
    "print(\"List of integers \", int_list)\n",
    "print(\"List of strigs \", strings_list)"
   ]
  },
  {
   "cell_type": "code",
   "execution_count": null,
   "id": "911be428-0279-4ca1-9904-a4453bc2b0e5",
   "metadata": {},
   "outputs": [],
   "source": []
  },
  {
   "cell_type": "markdown",
   "id": "cc377505-f474-4715-ab7b-bdfcff3d5214",
   "metadata": {},
   "source": [
    "#Program 7 -"
   ]
  },
  {
   "cell_type": "code",
   "execution_count": 8,
   "id": "bac2c1b5-9044-4647-bdff-a75ffbad26e2",
   "metadata": {},
   "outputs": [
    {
     "name": "stdin",
     "output_type": "stream",
     "text": [
      "Enter the index 3\n"
     ]
    },
    {
     "name": "stdout",
     "output_type": "stream",
     "text": [
      "Valid index, even number\n"
     ]
    }
   ],
   "source": [
    "l6 = [10,20,30,40,50]\n",
    "idx = int(input(\"Enter the index\"))\n",
    "\n",
    "if idx >= 0 and idx < len(l6):\n",
    "    if l6[idx] % 2 == 0:\n",
    "        print(\"Valid index, even number\")\n",
    "    else:\n",
    "        print(\"Valid index, odd number\")\n",
    "else:\n",
    "    print(\"Invalid index\")"
   ]
  },
  {
   "cell_type": "code",
   "execution_count": null,
   "id": "18b6f87b-3cf0-494d-9741-a6094ed07fc8",
   "metadata": {},
   "outputs": [],
   "source": []
  },
  {
   "cell_type": "markdown",
   "id": "30e16843-a7a5-40a8-bb8f-bab2ac6c4dfc",
   "metadata": {},
   "source": [
    "#Program 8 -"
   ]
  },
  {
   "cell_type": "code",
   "execution_count": 9,
   "id": "5cd0dcd1-27fb-49d0-950f-e60ef7b246c3",
   "metadata": {},
   "outputs": [
    {
     "name": "stdout",
     "output_type": "stream",
     "text": [
      "[25, 30, 28, 16, 99]\n"
     ]
    }
   ],
   "source": [
    "temp = [25,30,105,28,16,-5,99]\n",
    "valid_temp = []\n",
    "\n",
    "for t in temp:\n",
    "    if t >= 0 and t <= 100:\n",
    "        valid_temp.append(t)\n",
    "\n",
    "print(valid_temp)"
   ]
  },
  {
   "cell_type": "code",
   "execution_count": null,
   "id": "56abd305-2e0c-424e-995a-9d0bd08aa575",
   "metadata": {},
   "outputs": [],
   "source": []
  },
  {
   "cell_type": "markdown",
   "id": "e5f50243-f8bc-48db-96e1-7bd6d69a9314",
   "metadata": {},
   "source": [
    "#Program 9 -"
   ]
  },
  {
   "cell_type": "code",
   "execution_count": 10,
   "id": "1277e3a4-01ad-4028-b98c-d23b7eb3b07c",
   "metadata": {},
   "outputs": [
    {
     "name": "stdin",
     "output_type": "stream",
     "text": [
      "Enter the name to search for Bob\n"
     ]
    },
    {
     "name": "stdout",
     "output_type": "stream",
     "text": [
      "Index of the name is  1\n"
     ]
    }
   ],
   "source": [
    "names = ['Alice', 'Bob', 'Charlie', 'Diana']\n",
    "name = input(\"Enter the name to search for\")\n",
    "found = 0\n",
    "\n",
    "for i in range(len(names)):\n",
    "    if names[i] == name:\n",
    "        print(\"Index of the name is \", i)\n",
    "        found = 1\n",
    "\n",
    "if found == 0:\n",
    "    print(\"Name not found\")"
   ]
  },
  {
   "cell_type": "code",
   "execution_count": null,
   "id": "c692a5ad-4e8a-4711-9cf1-dc18a11f91e9",
   "metadata": {},
   "outputs": [],
   "source": []
  },
  {
   "cell_type": "markdown",
   "id": "7c7f245c-2958-4643-8346-5df69c3aa7cb",
   "metadata": {},
   "source": [
    "#Program 10 -"
   ]
  },
  {
   "cell_type": "code",
   "execution_count": 11,
   "id": "676e88d3-1616-44dd-82f2-ff4daf66ff27",
   "metadata": {},
   "outputs": [
    {
     "name": "stdout",
     "output_type": "stream",
     "text": [
      "15\n",
      "36\n",
      "12\n",
      "18\n"
     ]
    }
   ],
   "source": [
    "l7 = [15,7,22,9,36,12,18]\n",
    "\n",
    "for x in l7:\n",
    "    if x > 10 and x % 3 == 0:\n",
    "        print(x)"
   ]
  },
  {
   "cell_type": "code",
   "execution_count": null,
   "id": "d4e06258-1a69-41cd-b926-773550e348c2",
   "metadata": {},
   "outputs": [],
   "source": []
  }
 ],
 "metadata": {
  "kernelspec": {
   "display_name": "Python 3 (ipykernel)",
   "language": "python",
   "name": "python3"
  },
  "language_info": {
   "codemirror_mode": {
    "name": "ipython",
    "version": 3
   },
   "file_extension": ".py",
   "mimetype": "text/x-python",
   "name": "python",
   "nbconvert_exporter": "python",
   "pygments_lexer": "ipython3",
   "version": "3.13.1"
  }
 },
 "nbformat": 4,
 "nbformat_minor": 5
}
